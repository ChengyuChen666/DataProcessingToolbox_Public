{
 "cells": [
  {
   "cell_type": "code",
   "execution_count": 1,
   "metadata": {},
   "outputs": [],
   "source": [
    "#package\n",
    "import numpy as np\n",
    "import matplotlib.pyplot as plt\n",
    "import LorentzDataAnalysisToolbox as DAF"
   ]
  },
  {
   "attachments": {},
   "cell_type": "markdown",
   "metadata": {},
   "source": [
    "# Data loading and data alignment"
   ]
  },
  {
   "cell_type": "code",
   "execution_count": 2,
   "metadata": {},
   "outputs": [
    {
     "name": "stderr",
     "output_type": "stream",
     "text": [
      "/Users/yumchan/opt/anaconda3/lib/python3.9/site-packages/scipy/signal/_peak_finding.py:261: ComplexWarning: Casting complex values to real discards the imaginary part\n",
      "  value = np.asarray(value, order='C', dtype=np.float64)\n"
     ]
    },
    {
     "name": "stdout",
     "output_type": "stream",
     "text": [
      "Correlation maximun: k = -2850\n",
      "Correlation maximun: k = -1526\n",
      "Correlation maximun: k = -3289\n",
      "Correlation maximun: k = -1599\n",
      "Correlation maximun: k = 405\n",
      "Correlation maximun: k = -5951\n",
      "Correlation maximun: k = -4976\n",
      "Correlation maximun: k = -1071\n",
      "Correlation maximun: k = -1391\n"
     ]
    }
   ],
   "source": [
    "#Data Loading & Alignment\n",
    "FileName=['Data/tek0003.csv',\n",
    "          'Data/tek0004.csv',\n",
    "          'Data/tek0005.csv',\n",
    "          'Data/tek0006.csv',\n",
    "          'Data/tek0007.csv',\n",
    "          'Data/tek0008.csv',\n",
    "          'Data/tek0009.csv',\n",
    "          'Data/tek0010.csv',\n",
    "          'Data/tek0011.csv',\n",
    "          'Data/tek0012.csv']\n",
    "Voltage=np.zeros([10,100000])\n",
    "Transmission=np.zeros([10,100000])\n",
    "for i in range(0,10):\n",
    "    Data=np.loadtxt(FileName[i],delimiter=',',skiprows=21)\n",
    "    Voltage[i,:]=Data[:,1]\n",
    "    Transmission[i,:]=DAF.Normalize_10(Voltage[i,:])\n",
    "#Cut the data Before alignment\n",
    "Initial_Cut_bg_index=5000\n",
    "Initial_Cut_end_index=95000\n",
    "Transmission=Transmission[:,Initial_Cut_bg_index:Initial_Cut_end_index]\n",
    "#Data DataAlignment\n",
    "for i in range(0,9):\n",
    "    Transmission[i,:],Transmission[i+1,:]=DAF.DataAlignment(Transmission[i,:],Transmission[i+1,:],IfShow=False)"
   ]
  },
  {
   "attachments": {},
   "cell_type": "markdown",
   "metadata": {},
   "source": [
    "# Display the whole data"
   ]
  },
  {
   "cell_type": "code",
   "execution_count": 9,
   "metadata": {},
   "outputs": [
    {
     "name": "stdout",
     "output_type": "stream",
     "text": [
      "Using matplotlib backend: MacOSX\n"
     ]
    }
   ],
   "source": [
    "%matplotlib auto\n",
    "N_s=10000#Sampling Rate (Sa/s)\n",
    "v_lam=6#scan velocity (nm/s)\n",
    "t_total=10#Total time (s)\n",
    "lam_begin=1520#Beginning wavelength\n",
    "lam=np.linspace(0,v_lam/N_s*len(Transmission[0,:]),len(Transmission[0,:]))+lam_begin\n",
    "Label=['0',\n",
    "       '1',\n",
    "       '2',\n",
    "       '3',\n",
    "       '4',\n",
    "       '5',\n",
    "       '6',\n",
    "       '7',\n",
    "       '8',\n",
    "       '9']\n",
    "#\n",
    "fig,ax=plt.subplots()\n",
    "color_list=[]\n",
    "for i in range(0,10):\n",
    "    ax.plot(lam,Transmission[i,:],'--*')\n",
    "ax.legend(Label,loc='lower left')\n",
    "ax.set_xlabel('Wavelength (nm)')\n",
    "ax.set_ylabel('Transmission (a.u.)')\n",
    "plt.show()"
   ]
  },
  {
   "attachments": {},
   "cell_type": "markdown",
   "metadata": {},
   "source": [
    "# Local analysis"
   ]
  },
  {
   "cell_type": "code",
   "execution_count": 4,
   "metadata": {},
   "outputs": [],
   "source": [
    "#Data cutting\n",
    "Lambda_begin=1530.68\n",
    "Lambda_end=1530.86\n",
    "\n",
    "filter_index=lam>=Lambda_begin\n",
    "New_lam=lam[filter_index]\n",
    "New_Transmission=Transmission[:,filter_index]\n",
    "filter_index=New_lam<=Lambda_end\n",
    "New_lam=New_lam[filter_index]\n",
    "New_Transmission=New_Transmission[:,filter_index]"
   ]
  },
  {
   "cell_type": "code",
   "execution_count": 5,
   "metadata": {},
   "outputs": [],
   "source": [
    "#Lorentz line shape fitting\n",
    "mode_list=[]\n",
    "mode_Q_list=np.array([])\n",
    "parameters_list=np.array([0,1,2,3,4,5,6,7,8,9])\n",
    "for i in range(0,10):\n",
    "    mode_temp=DAF.Mode((Lambda_begin+Lambda_end)/2,New_Transmission[i,:],New_lam)\n",
    "    mode_temp.Fitting()\n",
    "    mode_list.append(mode_temp)\n",
    "    mode_Q_list=np.append(mode_Q_list,mode_temp.Q)"
   ]
  },
  {
   "cell_type": "code",
   "execution_count": 6,
   "metadata": {},
   "outputs": [
    {
     "name": "stdout",
     "output_type": "stream",
     "text": [
      "Using matplotlib backend: MacOSX\n"
     ]
    }
   ],
   "source": [
    "%matplotlib auto\n",
    "fig,ax=plt.subplots(1,2,figsize=(18,8))\n",
    "#parameters vs Q\n",
    "ax[0].plot(parameters_list,mode_Q_list/1e5,'--*')\n",
    "ax[0].set_xlabel('Parameters',size=25)\n",
    "ax[0].set_ylabel('Quality factor Q ($\\\\times 10^5$)',size=25)\n",
    "for i in range(0,10):\n",
    "    ax[1].plot(New_lam,New_Transmission[i,:],'*')\n",
    "ax[1].legend(Label,loc='lower right')\n",
    "for i in range(0,10):\n",
    "    ax[1].plot(New_lam,mode_list[i].Fitting_transimission,'-')\n",
    "ax[1].set_xlabel('Wavelength (nm)',size=25)\n",
    "ax[1].set_ylabel('Transmission (a.u.)',size=25)\n",
    "ax[1].set_xlim([np.min(New_lam),np.max(New_lam)])\n",
    "ax[1].set_title('Cavity transmission data with Lorentz line shape',size=20)\n",
    "# plt.savefig('Q.pdf')\n",
    "plt.show()"
   ]
  }
 ],
 "metadata": {
  "kernelspec": {
   "display_name": "base",
   "language": "python",
   "name": "python3"
  },
  "language_info": {
   "codemirror_mode": {
    "name": "ipython",
    "version": 3
   },
   "file_extension": ".py",
   "mimetype": "text/x-python",
   "name": "python",
   "nbconvert_exporter": "python",
   "pygments_lexer": "ipython3",
   "version": "3.9.13"
  },
  "orig_nbformat": 4,
  "vscode": {
   "interpreter": {
    "hash": "cd2965807495d26ff7d498b596a87969d21cd9e9bf9b104eb897a90e4b6f694f"
   }
  }
 },
 "nbformat": 4,
 "nbformat_minor": 2
}
